{
 "cells": [
  {
   "cell_type": "code",
   "execution_count": 2,
   "metadata": {},
   "outputs": [
    {
     "name": "stdout",
     "output_type": "stream",
     "text": [
      "Fitting 5 folds for each of 16 candidates, totalling 80 fits\n",
      "Best parameters found:  {'C': 1, 'max_iter': 1000, 'tol': 0.001}\n",
      "SVM score after tuning:  0.9820627802690582\n",
      "SVM confusion matrix after tuning: \n",
      " [[767   3]\n",
      " [ 13 109]]\n",
      "Classification Report:\n",
      "               precision    recall  f1-score   support\n",
      "\n",
      "         ham       0.98      1.00      0.99       770\n",
      "        spam       0.97      0.89      0.93       122\n",
      "\n",
      "    accuracy                           0.98       892\n",
      "   macro avg       0.98      0.94      0.96       892\n",
      "weighted avg       0.98      0.98      0.98       892\n",
      "\n"
     ]
    },
    {
     "data": {
      "image/png": "[encoded data removed]",
      "text/plain": [
       "<Figure size 576x432 with 2 Axes>"
      ]
     },
     "metadata": {},
     "output_type": "display_data"
    },
    {
     "name": "stdout",
     "output_type": "stream",
     "text": [
      "Cross-validation scores: [0.97619048 0.97755961 0.97475456 0.98176718 0.98737728]\n",
      "Mean cross-validation accuracy: 0.9795\n"
     ]
    }
   ],
   "source": [
    "# 最终代码\n",
    "import numpy as np\n",
    "import pandas as pd\n",
    "import string\n",
    "from sklearn.feature_extraction.text import CountVectorizer, TfidfTransformer\n",
    "from sklearn.svm import LinearSVC\n",
    "from sklearn.metrics import confusion_matrix, classification_report\n",
    "from sklearn.model_selection import train_test_split, GridSearchCV, cross_val_score\n",
    "from nltk.corpus import stopwords\n",
    "from nltk.stem.porter import PorterStemmer\n",
    "import re\n",
    "import matplotlib.pyplot as plt\n",
    "import seaborn as sns\n",
    "\n",
    "# 读邮件数据CSV\n",
    "train_email = pd.read_csv(\"C:/Users/Administrator/Desktop/work1/data/train.csv\", usecols=[2], encoding='Windows-1252')\n",
    "train_label = pd.read_csv(\"C:/Users/Administrator/Desktop/work1/data/train.csv\", usecols=[1], encoding='Windows-1252')\n",
    "\n",
    "# 数据预处理\n",
    "def text_processing(text):\n",
    "    text = text.lower()\n",
    "    text = re.compile(r'https?://\\S+|www\\.\\S+').sub(r'', text)\n",
    "    text = re.sub(r'<.*?>', '', text)\n",
    "    text = re.sub(r'[^\\x00-\\x7F]+', '', text)\n",
    "    text = text.translate(str.maketrans('', '', string.punctuation))\n",
    "    text = \" \".join([word for word in str(text).split() if word not in stopwords.words('english')])\n",
    "    text = re.sub(r'(.)\\1{2,}', r'\\1\\1', text)\n",
    "    text = \" \".join([PorterStemmer().stem(word) for word in text.split()])\n",
    "    return text\n",
    "\n",
    "train_email['Email'] = train_email['Email'].apply(text_processing)\n",
    "\n",
    "# 将内容转为list类型\n",
    "train_email = np.array(train_email['Email']).reshape((1, len(train_email)))[0].tolist()\n",
    "train_label = np.array(train_label).reshape((1, len(train_email)))[0].tolist()\n",
    "\n",
    "# 构造训练集和验证集\n",
    "train_num = int(len(train_email)*0.8)\n",
    "data_train = train_email[:train_num]\n",
    "data_dev = train_email[train_num:]\n",
    "label_train = train_label[:train_num]\n",
    "label_dev = train_label[train_num:]\n",
    "\n",
    "# 使用词袋模型并调参\n",
    "vectorizer = CountVectorizer(stop_words='english', ngram_range=(1, 2), max_features=1000)\n",
    "data_train_cnt = vectorizer.fit_transform(data_train)\n",
    "data_test_cnt = vectorizer.transform(data_dev)\n",
    "\n",
    "# 变成TF-IDF矩阵并调参\n",
    "transformer = TfidfTransformer(sublinear_tf=True, use_idf=True)\n",
    "data_train_tfidf = transformer.fit_transform(data_train_cnt)\n",
    "data_test_tfidf = transformer.transform(data_test_cnt)\n",
    "\n",
    "# SVM模型超参数调优\n",
    "svm = LinearSVC(random_state=42)\n",
    "param_grid = {\n",
    "    'C': [0.1, 1, 10, 100],  # C值的选择\n",
    "    'max_iter': [1000, 2000],  # 最大迭代次数\n",
    "    'tol': [1e-3, 1e-4]  # 收敛容忍度\n",
    "}\n",
    "\n",
    "# 使用GridSearchCV进行超参数调优\n",
    "grid_search = GridSearchCV(svm, param_grid, cv=5, n_jobs=-1, verbose=1)\n",
    "grid_search.fit(data_train_tfidf, label_train)\n",
    "\n",
    "# 输出最佳参数\n",
    "print(\"Best parameters found: \", grid_search.best_params_)\n",
    "\n",
    "# 使用最优参数训练SVM模型\n",
    "best_svm = grid_search.best_estimator_\n",
    "best_svm.fit(data_train_tfidf, label_train)\n",
    "\n",
    "# 测试集评分\n",
    "score = best_svm.score(data_test_tfidf, label_dev)\n",
    "print(\"SVM score after tuning: \", score)\n",
    "\n",
    "# 预测结果\n",
    "result_svm = best_svm.predict(data_test_tfidf)\n",
    "print(\"SVM confusion matrix after tuning: \\n\", confusion_matrix(label_dev, result_svm))\n",
    "\n",
    "# 输出更详细的分类报告\n",
    "print(\"Classification Report:\\n\", classification_report(label_dev, result_svm))\n",
    "\n",
    "# 可视化混淆矩阵\n",
    "conf_matrix = confusion_matrix(label_dev, result_svm)\n",
    "plt.figure(figsize=(8, 6))\n",
    "sns.heatmap(conf_matrix, annot=True, fmt='d', cmap='Blues', xticklabels=['Ham', 'Spam'], yticklabels=['Ham', 'Spam'])\n",
    "plt.title('Confusion Matrix after Threshold Adjustment')\n",
    "plt.xlabel('Predicted')\n",
    "plt.ylabel('True')\n",
    "plt.savefig('最终结果.png', dpi=600)\n",
    "plt.show()\n",
    "\n",
    "# 交叉验证：使用5折交叉验证来评估模型性能\n",
    "cross_val_scores = cross_val_score(best_svm, data_train_tfidf, label_train, cv=5, scoring='accuracy')\n",
    "print(f\"Cross-validation scores: {cross_val_scores}\")\n",
    "print(f\"Mean cross-validation accuracy: {cross_val_scores.mean():.4f}\")\n"
   ]
  },
  {
   "cell_type": "code",
   "execution_count": null,
   "metadata": {},
   "outputs": [],
   "source": []
  }
 ],
 "metadata": {
  "kernelspec": {
   "display_name": "Python 3",
   "language": "python",
   "name": "python3"
  },
  "language_info": {
   "codemirror_mode": {
    "name": "ipython",
    "version": 3
   },
   "file_extension": ".py",
   "mimetype": "text/x-python",
   "name": "python",
   "nbconvert_exporter": "python",
   "pygments_lexer": "ipython3",
   "version": "3.6.5"
  }
 },
 "nbformat": 4,
 "nbformat_minor": 2
}
